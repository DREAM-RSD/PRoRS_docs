{
 "cells": [
  {
   "cell_type": "markdown",
   "metadata": {},
   "source": [
    "# 3.5 课后习题"
   ]
  },
  {
   "cell_type": "markdown",
   "metadata": {},
   "source": [
    "1、Consider a Support Vector Machine and the following training data from two categories:\n",
    "$$\\begin{array}{|c|c|c|}\n",
    "\\hline \\text { category } & x_{1} & x_{2} \\\\\n",
    "\\hline \\omega_{1} & 1 & 1 \\\\\n",
    "\\omega_{1} & 2 & 2 \\\\\n",
    "\\omega_{1} & 2 & 0 \\\\\n",
    "\\hline \\omega_{2} & 0 & 0 \\\\\n",
    "\\omega_{2} & 1 & 0 \\\\\n",
    "\\omega_{2} & 0 & 1 \\\\\n",
    "\\hline\n",
    "\\end{array}$$\n",
    "\n",
    "(a)\tPlot these six training points, and construct by inspection the weight vector for the optimal hyperplane, and the optimal margin.\n",
    "\n",
    "(b)\tWhat are the support vectors?\n",
    "\n",
    "(c)\tConstruct the solution in the dual space by finding the Lagrange undetermined multipliers, $\\alpha_{i}$. Compare your result to that in part (a).\n",
    "\n"
   ]
  },
  {
   "cell_type": "code",
   "execution_count": null,
   "metadata": {},
   "outputs": [],
   "source": []
  }
 ],
 "metadata": {
  "kernelspec": {
   "display_name": "Python 3",
   "language": "python",
   "name": "python3"
  },
  "language_info": {
   "codemirror_mode": {
    "name": "ipython",
    "version": 3
   },
   "file_extension": ".py",
   "mimetype": "text/x-python",
   "name": "python",
   "nbconvert_exporter": "python",
   "pygments_lexer": "ipython3",
   "version": "3.6.5"
  },
  "toc": {
   "base_numbering": 1,
   "nav_menu": {},
   "number_sections": true,
   "sideBar": true,
   "skip_h1_title": false,
   "title_cell": "Table of Contents",
   "title_sidebar": "Contents",
   "toc_cell": false,
   "toc_position": {},
   "toc_section_display": true,
   "toc_window_display": false
  }
 },
 "nbformat": 4,
 "nbformat_minor": 2
}
