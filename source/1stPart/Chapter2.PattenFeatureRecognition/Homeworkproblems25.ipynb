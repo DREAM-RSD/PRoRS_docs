{
 "cells": [
  {
   "cell_type": "markdown",
   "metadata": {},
   "source": [
    "# 2.5 课后习题"
   ]
  },
  {
   "cell_type": "markdown",
   "metadata": {},
   "source": [
    "1、\tConsider the following decision rule for a two-category one-dimensional problem:\n",
    "Decide $\\omega_{1}$ if $x>\\theta$; otherwise decide $\\omega_{2}$.\n",
    "\n",
    "(a)\tShow that the probability of error for this rule is given by\n",
    "$$P(\\text { error })=P\\left(\\omega_{1}\\right) \\int_{-\\infty}^{\\theta} p\\left(x | \\omega_{1}\\right) d x+P\\left(\\omega_{2}\\right) \\int_{\\theta}^{\\infty} p\\left(x | \\omega_{2}\\right) d x$$\n",
    "(b)\tBy differentiating, show that a necessary condition to minimize $P(error)$ is that $\\theta$ satisfy\n",
    "$$p\\left(\\theta | \\omega_{1}\\right) P\\left(\\omega_{1}\\right)=p\\left(\\theta | \\omega_{2}\\right) P\\left(\\omega_{2}\\right) $$\n",
    "(c)\tDoes this equation define $\\theta$ uniquely?\n",
    "\n",
    "(d)\tGive an example where a value of $\\theta$ satisfying the equation actually maximizes the probability of error.\n"
   ]
  },
  {
   "cell_type": "markdown",
   "metadata": {},
   "source": [
    "2、\tSuppose that we replace the deterministic decision function $\\alpha(\\mathbf{x})$ with a randomized rule, viz., the probability $P\\left(\\alpha_{i} | \\mathbf{x}\\right)$ of taking action $\\alpha_{i}$ upon observing $x$.\n",
    "\n",
    "(a)\tShow that the resulting risk is given by\n",
    "$$R=\\int\\left[\\sum_{i=1}^{a} R\\left(\\alpha_{i} | \\mathbf{x}\\right) P\\left(\\alpha_{i} | \\mathbf{x}\\right)\\right] p(\\mathbf{x}) d \\mathbf{x}$$\n",
    "(b)\tIn addition, show that $R$ is minimized by choosing $P\\left(\\alpha_{i} | \\mathbf{x}\\right)=1$ for the action $\\alpha_{i}$ associated with the minimum conditional risk $R\\left(\\alpha_{i} | \\mathbf{x}\\right)$, thereby showing that no benefit can be gained from randomizing the best decision rule.\n",
    "\n",
    "(c)\tCan we benefit from randomizing a suboptimal rule? Explain.\n"
   ]
  },
  {
   "cell_type": "markdown",
   "metadata": {},
   "source": [
    "3、\tLet $\\omega_{\\max }(\\mathbf{x})$ be the state of nature for which $P\\left(\\omega_{\\max } | \\mathbf{x}\\right) \\geq P\\left(\\omega_{i} | \\mathbf{x}\\right)$ for all $i$, $i=1, \\dots, c$.\n",
    "\n",
    "(a)\tShow that $P\\left(\\omega_{\\max } | \\mathbf{x}\\right) \\geq 1 / c$.\n",
    "\n",
    "(b)\tShow that for the minimum-error-rate decision rule the average probability of error is given by\n",
    "$$P(\\text { error })=1-\\int P\\left(\\omega_{\\max } | \\mathbf{x}\\right) p(\\mathbf{x}) d \\mathbf{x}$$\n",
    "(c)\tUse these two results to show that $P(\\text { error }) \\leq(c-1) / c$.\n",
    "\n",
    "(d)\tDescribe a situation for which $P(\\text { error })=(c-1) / c$.\n"
   ]
  },
  {
   "cell_type": "code",
   "execution_count": null,
   "metadata": {},
   "outputs": [],
   "source": []
  }
 ],
 "metadata": {
  "kernelspec": {
   "display_name": "Python 3",
   "language": "python",
   "name": "python3"
  },
  "language_info": {
   "codemirror_mode": {
    "name": "ipython",
    "version": 3
   },
   "file_extension": ".py",
   "mimetype": "text/x-python",
   "name": "python",
   "nbconvert_exporter": "python",
   "pygments_lexer": "ipython3",
   "version": "3.6.5"
  },
  "toc": {
   "base_numbering": 1,
   "nav_menu": {},
   "number_sections": true,
   "sideBar": true,
   "skip_h1_title": false,
   "title_cell": "Table of Contents",
   "title_sidebar": "Contents",
   "toc_cell": false,
   "toc_position": {},
   "toc_section_display": true,
   "toc_window_display": false
  }
 },
 "nbformat": 4,
 "nbformat_minor": 2
}
